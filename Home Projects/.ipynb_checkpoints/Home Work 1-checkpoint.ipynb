{
 "cells": [
  {
   "cell_type": "markdown",
   "id": "8fb3475b",
   "metadata": {},
   "source": [
    "### Exercises\n",
    "1. Create a list of numbers 100 elements in length that counts by 3s - i.e., [3,6,9,12,...]\n",
    "\n",
    "2. Using the list from question 1, create a second list whose elements are the same values converted to strings. hint: use a for loop and the function str().\n",
    "\n",
    "3. Using the list from question 2, create a variable that concatenates each of the elements in order of index (Hint: result should be like \"36912...\").\n",
    "\n",
    "4. Using .pop() and .append(), create a list whose values are the same as the list from question 1 but in reverse order. (Hint: .pop() removes the last element from a list. The value can be save, i.e., x = lst.pop().)\n",
    "\n",
    "5. Using len(), calculate the midpoint of the list from question 1. Pass this midpoint to slice the list so that the resultant copy includes only the second half of the list from question 1.\n",
    "\n",
    "6. Create a string that includes only every other element, starting from the 0th element, from the string in question 3 while maintaining the order of these elements (Hint: this can be done be using a for loop whose values are descending).\n",
    "\n",
    "7. Explain the difference between a dynamic list in Python (usually referred to as a list) and a tuple.\n",
    "\n",
    "### Exploration\n",
    "\n",
    "1. Use a generator to create a list of the first 100 prime numbers. Include a paragraph explaining how a generator works.\n",
    "\n",
    "2. Using a for loop and the pop function, create a list of the values from the list of prime numbers whose values are descending from highest to lowest.\n",
    "\n",
    "3. Using either of prime numbers, create another list that includes the same numbers but is randomly ordered. Do this without shuffling the initial list (Hint: you will need to import random and import copy). Explain in a paragraph the process that you followed to accomplish the task."
   ]
  },
  {
   "cell_type": "code",
   "execution_count": 1,
   "id": "f88acc71",
   "metadata": {},
   "outputs": [
    {
     "name": "stdout",
     "output_type": "stream",
     "text": [
      "[3, 6, 9, 12, 15, 18, 21, 24, 27, 30, 33, 36, 39, 42, 45, 48, 51, 54, 57, 60, 63, 66, 69, 72, 75, 78, 81, 84, 87, 90, 93, 96, 99, 102, 105, 108, 111, 114, 117, 120, 123, 126, 129, 132, 135, 138, 141, 144, 147, 150, 153, 156, 159, 162, 165, 168, 171, 174, 177, 180, 183, 186, 189, 192, 195, 198, 201, 204, 207, 210, 213, 216, 219, 222, 225, 228, 231, 234, 237, 240, 243, 246, 249, 252, 255, 258, 261, 264, 267, 270, 273, 276, 279, 282, 285, 288, 291, 294, 297, 300] 100\n"
     ]
    }
   ],
   "source": [
    "#1 Use range to count 100 elements and multiply each by 3\n",
    "list1 = [i * 3 for i in range(1, 101)]\n",
    "print(list1, len(list1))"
   ]
  },
  {
   "cell_type": "code",
   "execution_count": 2,
   "id": "6d3d08c8",
   "metadata": {},
   "outputs": [
    {
     "name": "stdout",
     "output_type": "stream",
     "text": [
      "['3', '6', '9', '12', '15', '18', '21', '24', '27', '30', '33', '36', '39', '42', '45', '48', '51', '54', '57', '60', '63', '66', '69', '72', '75', '78', '81', '84', '87', '90', '93', '96', '99', '102', '105', '108', '111', '114', '117', '120', '123', '126', '129', '132', '135', '138', '141', '144', '147', '150', '153', '156', '159', '162', '165', '168', '171', '174', '177', '180', '183', '186', '189', '192', '195', '198', '201', '204', '207', '210', '213', '216', '219', '222', '225', '228', '231', '234', '237', '240', '243', '246', '249', '252', '255', '258', '261', '264', '267', '270', '273', '276', '279', '282', '285', '288', '291', '294', '297', '300']\n"
     ]
    }
   ],
   "source": [
    "#2 Iterate through list1 then use str() function to convert each value to a string\n",
    "list2 = [str(i) for i in list1]\n",
    "print(list2)"
   ]
  },
  {
   "cell_type": "code",
   "execution_count": 3,
   "id": "08c614b7",
   "metadata": {},
   "outputs": [
    {
     "name": "stdout",
     "output_type": "stream",
     "text": [
      "369121518212427303336394245485154576063666972757881848790939699102105108111114117120123126129132135138141144147150153156159162165168171174177180183186189192195198201204207210213216219222225228231234237240243246249252255258261264267270273276279282285288291294297300\n"
     ]
    }
   ],
   "source": [
    "#3 Use the + sign to join strings\n",
    "list2_concat = \"\"\n",
    "for i in list2:\n",
    "    list2_concat = list2_concat + i\n",
    "print(list2_concat)"
   ]
  },
  {
   "cell_type": "code",
   "execution_count": 4,
   "id": "b6a0c396",
   "metadata": {},
   "outputs": [
    {
     "name": "stdout",
     "output_type": "stream",
     "text": [
      "[300, 297, 294, 291, 288, 285, 282, 279, 276, 273, 270, 267, 264, 261, 258, 255, 252, 249, 246, 243, 240, 237, 234, 231, 228, 225, 222, 219, 216, 213, 210, 207, 204, 201, 198, 195, 192, 189, 186, 183, 180, 177, 174, 171, 168, 165, 162, 159, 156, 153, 150, 147, 144, 141, 138, 135, 132, 129, 126, 123, 120, 117, 114, 111, 108, 105, 102, 99, 96, 93, 90, 87, 84, 81, 78, 75, 72, 69, 66, 63, 60, 57, 54, 51, 48, 45, 42, 39, 36, 33, 30, 27, 24, 21, 18, 15, 12, 9, 6, 3]\n"
     ]
    }
   ],
   "source": [
    "#4 Use the copy to get a copy of list1.\n",
    "# Another method is to use the list method. list1 =list2 will only reference list1\n",
    "list1_copy = list1.copy()\n",
    "list3 = []\n",
    "list3_len = len(list1)\n",
    "def reverselist(n, l):\n",
    "    for i in range(len(n)):\n",
    "        x = n.pop()\n",
    "        l.append(x)\n",
    "    return l\n",
    "print(reverselist(list1_copy, list3))"
   ]
  },
  {
   "cell_type": "code",
   "execution_count": 5,
   "id": "d439e23c",
   "metadata": {},
   "outputs": [
    {
     "name": "stdout",
     "output_type": "stream",
     "text": [
      "[153, 156, 159, 162, 165, 168, 171, 174, 177, 180, 183, 186, 189, 192, 195, 198, 201, 204, 207, 210, 213, 216, 219, 222, 225, 228, 231, 234, 237, 240, 243, 246, 249, 252, 255, 258, 261, 264, 267, 270, 273, 276, 279, 282, 285, 288, 291, 294, 297, 300]\n"
     ]
    }
   ],
   "source": [
    "#5\n",
    "midpoint = len(list1) // 2 \n",
    "secondpart = list1[midpoint:]\n",
    "print(secondpart)"
   ]
  },
  {
   "cell_type": "code",
   "execution_count": 6,
   "id": "ceb4bccf",
   "metadata": {},
   "outputs": [
    {
     "name": "stdout",
     "output_type": "stream",
     "text": [
      "392581470369258147036925814703690150111172132193153114175135196156117178138199159210271231292252213274234295255216277237298258219270\n"
     ]
    }
   ],
   "source": [
    "#6\n",
    "print(list2_concat[::2])"
   ]
  },
  {
   "cell_type": "markdown",
   "id": "5e32e828",
   "metadata": {},
   "source": [
    "### #7 The difference between a dynamic list in Python (usually referred to as a list) and a tuple.\n",
    "Lists and Tuples are used to store collection of items but have differences in terms of mutability and syntax.\n",
    "\n",
    "1. Mutability: \n",
    "- A list in Python is dynamic and mutable. This means you can modify a list after its creation. You can add, remove, or change items in a list. For example, you can append elements to a list, delete elements, or alter elements at any given index.\n",
    "-  A tuple is immutable. Once a tuple is created, you cannot change its contents – no adding, removing, or altering of elements. If you need to modify a collection of items that is initially stored in a tuple, you would need to create a new tuple with the necessary changes or convert to a list, alter it then convert back to a tuple.\n",
    "\n",
    "2. Syntax: \n",
    "- List: Lists are defined with square brackets []. For example, my_list = [1, 2, 3].\n",
    "- Tuple: Tuples are defined with parentheses (). For example, my_tuple = (1, 2, 3). However, parentheses are optional in many contexts, and a tuple can be defined simply by separating items with commas, like my_tuple = 1, 2,3 "
   ]
  },
  {
   "cell_type": "markdown",
   "id": "c4d85e57",
   "metadata": {},
   "source": [
    "### Exploration\n",
    "\n",
    "1. Use a generator to create a list of the first 100 prime numbers. Include a paragraph explaining how a generator works.\n",
    "\n",
    "2. Using a for loop and the pop function, create a list of the values from the list of prime numbers whose values are descending from highest to lowest.\n",
    "\n",
    "3. Using either of prime numbers, create another list that includes the same numbers but is randomly ordered. Do this without shuffling the initial list (Hint: you will need to import random and import copy). Explain in a paragraph the process that you followed to accomplish the task."
   ]
  },
  {
   "cell_type": "code",
   "execution_count": 8,
   "id": "42d9be83",
   "metadata": {},
   "outputs": [
    {
     "name": "stdout",
     "output_type": "stream",
     "text": [
      "[2, 3, 5, 7, 11, 13, 17, 19, 23, 29, 31, 37, 41, 43, 47, 53, 59, 61, 67, 71, 73, 79, 83, 89, 97, 101, 103, 107, 109, 113, 127, 131, 137, 139, 149, 151, 157, 163, 167, 173, 179, 181, 191, 193, 197, 199, 211, 223, 227, 229, 233, 239, 241, 251, 257, 263, 269, 271, 277, 281, 283, 293, 307, 311, 313, 317, 331, 337, 347, 349, 353, 359, 367, 373, 379, 383, 389, 397, 401, 409, 419, 421, 431, 433, 439, 443, 449, 457, 461, 463, 467, 479, 487, 491, 499, 503, 509, 521, 523, 541]\n"
     ]
    }
   ],
   "source": [
    "#1 Using sieveOfEratosthenes\n",
    "def sieve_of_eratosthenes(limit):\n",
    "    \"\"\"Apply the Sieve of Eratosthenes to find all prime numbers up to the given limit.\"\"\"\n",
    "    primes = []\n",
    "    sieve = [True] * (limit + 1)\n",
    "    for num in range(2, limit + 1):\n",
    "        if sieve[num]:\n",
    "            primes.append(num)\n",
    "            for i in range(num * num, limit + 1, num):\n",
    "                sieve[i] = False\n",
    "    return primes\n",
    "\n",
    "# Initially, we don't know the upper limit for the 100th prime, so we start with an estimate and increase if needed\n",
    "upper_limit = 1000\n",
    "primes_list = sieve_of_eratosthenes(upper_limit)\n",
    "\n",
    "# If the list is shorter than 100, increase the limit and try again\n",
    "while len(primes_list) < 100:\n",
    "    upper_limit *= 2 \n",
    "    primes_list = sieve_of_eratosthenes(upper_limit)\n",
    "\n",
    "# Extracting the first 100 primes\n",
    "first_100_primes = primes_list[:100]\n",
    "print(first_100_primes)"
   ]
  },
  {
   "cell_type": "code",
   "execution_count": 9,
   "id": "c1c24106",
   "metadata": {},
   "outputs": [
    {
     "name": "stdout",
     "output_type": "stream",
     "text": [
      "[541, 523, 521, 509, 503, 499, 491, 487, 479, 467, 463, 461, 457, 449, 443, 439, 433, 431, 421, 419, 409, 401, 397, 389, 383, 379, 373, 367, 359, 353, 349, 347, 337, 331, 317, 313, 311, 307, 293, 283, 281, 277, 271, 269, 263, 257, 251, 241, 239, 233, 229, 227, 223, 211, 199, 197, 193, 191, 181, 179, 173, 167, 163, 157, 151, 149, 139, 137, 131, 127, 113, 109, 107, 103, 101, 97, 89, 83, 79, 73, 71, 67, 61, 59, 53, 47, 43, 41, 37, 31, 29, 23, 19, 17, 13, 11, 7, 5, 3, 2]\n"
     ]
    }
   ],
   "source": [
    "#2 Using the reverse function\n",
    "reveresed_prime = []\n",
    "print(reverselist(first_100_primes_copy,reveresed_prime))"
   ]
  },
  {
   "cell_type": "markdown",
   "id": "cb1f9566",
   "metadata": {},
   "source": [
    "To create a randomly ordered list of the first 100 prime numbers without altering the original list, \n",
    "I first used the Sieve of Eratosthenes algorithm to generate the initial list of prime numbers. \n",
    "After generating this list, I made a copy of it using the `copy` module's `copy` function to ensure that the original list remains unaltered. \n",
    "The copied list contains the same elements as the original, preserving the sequence of prime numbers. \n",
    "To randomize the order of the elements in the copied list, \n",
    "I used the `shuffle` method from Python's `random` module. \n",
    "This method rearranges the elements in the list in a random order. \n",
    "By shuffling the copy instead of the original list, \n",
    "I maintained the integrity of the original sequence while providing a new, randomly ordered list of the same prime numbers. The result was a list of the first 100 prime numbers, randomly shuffled, with the original list remaining in its sequential order."
   ]
  },
  {
   "cell_type": "code",
   "execution_count": 13,
   "id": "ec8a354b",
   "metadata": {},
   "outputs": [
    {
     "name": "stdout",
     "output_type": "stream",
     "text": [
      "[89, 431, 223, 67, 443, 467, 127, 43, 157, 487, 359, 521, 163, 263, 509, 457, 373, 251, 199, 379, 349, 103, 523, 193, 337, 353, 181, 3, 233, 499, 13, 397, 19, 149, 41, 71, 281, 137, 131, 107, 23, 79, 239, 277, 97, 179, 11, 5, 151, 383, 73, 463, 307, 389, 167, 2, 269, 59, 113, 479, 109, 7, 197, 347, 503, 47, 491, 449, 433, 173, 401, 317, 61, 227, 101, 17, 421, 31, 311, 271, 29, 211, 241, 313, 461, 541, 139, 229, 367, 419, 439, 53, 293, 37, 257, 283, 83, 409, 191, 331] [2, 3, 5, 7, 11, 13, 17, 19, 23, 29, 31, 37, 41, 43, 47, 53, 59, 61, 67, 71, 73, 79, 83, 89, 97, 101, 103, 107, 109, 113, 127, 131, 137, 139, 149, 151, 157, 163, 167, 173, 179, 181, 191, 193, 197, 199, 211, 223, 227, 229, 233, 239, 241, 251, 257, 263, 269, 271, 277, 281, 283, 293, 307, 311, 313, 317, 331, 337, 347, 349, 353, 359, 367, 373, 379, 383, 389, 397, 401, 409, 419, 421, 431, 433, 439, 443, 449, 457, 461, 463, 467, 479, 487, 491, 499, 503, 509, 521, 523, 541]\n"
     ]
    }
   ],
   "source": [
    "#3 \n",
    "\n",
    "import random\n",
    "import copy\n",
    "primes_random_order = copy.copy(first_100_primes) \n",
    "random.shuffle(primes_random_order)\n",
    "print(primes_random_order)"
   ]
  },
  {
   "cell_type": "code",
   "execution_count": null,
   "id": "92029c47",
   "metadata": {},
   "outputs": [],
   "source": []
  }
 ],
 "metadata": {
  "kernelspec": {
   "display_name": "Python 3 (ipykernel)",
   "language": "python",
   "name": "python3"
  },
  "language_info": {
   "codemirror_mode": {
    "name": "ipython",
    "version": 3
   },
   "file_extension": ".py",
   "mimetype": "text/x-python",
   "name": "python",
   "nbconvert_exporter": "python",
   "pygments_lexer": "ipython3",
   "version": "3.10.9"
  }
 },
 "nbformat": 4,
 "nbformat_minor": 5
}
