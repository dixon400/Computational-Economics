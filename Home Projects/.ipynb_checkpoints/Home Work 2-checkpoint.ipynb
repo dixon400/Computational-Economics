{
 "cells": [
  {
   "cell_type": "markdown",
   "id": "7201e90c",
   "metadata": {},
   "source": [
    "## Exercises:\n",
    "\n",
    "1. Create an array with (100) elements using np.arange()\n",
    "\n",
    "2. Create two numpy arrays whose values are neither all 0 or 1. Multiply the two arrays and save the result i.e., result = array1 * array2.\n",
    "\n",
    "3. Create a dictionary where each key points to a unique numpy array. All arrays should be of the same length. Then transform that dictionary into a pandas dataframe.\n",
    "\n",
    "4. Import a data set for your project in pandas. You may use whatever means you prefer to import the data. Print the dataframe.\n",
    "\n",
    "5. Create a new column of data derived from the data that you have already imported. hint: this may be a ratio or whatever transformation that you think would be useful...\n",
    "\n",
    "6. Use a for loop to print individually each column in the dataframe.\n",
    "\n",
    "7. Create a function that plots 2 to 3 different variables from the dataframe. The function may look something like \"def plot_data(df,names, etc...). Each plot should include a legend and title.\n",
    "\n",
    "8. Create a bar graph plot using the data you have imported.\n",
    "\n",
    "9. On any of the graphs you have created, change the font size, axis labels, tick labels, color, linewidth, and so forth. Adjust these parameters to make the visualization aesthetically appealing..\n"
   ]
  },
  {
   "cell_type": "code",
   "execution_count": 1,
   "id": "b3fbbbee",
   "metadata": {},
   "outputs": [],
   "source": [
    "import numpy as np\n",
    "import pandas as pd\n",
    "import seaborn as sns\n"
   ]
  },
  {
   "cell_type": "code",
   "execution_count": 2,
   "id": "c5461554",
   "metadata": {},
   "outputs": [
    {
     "name": "stdout",
     "output_type": "stream",
     "text": [
      "[ 0  1  2  3  4  5  6  7  8  9 10 11 12 13 14 15 16 17 18 19 20 21 22 23\n",
      " 24 25 26 27 28 29 30 31 32 33 34 35 36 37 38 39 40 41 42 43 44 45 46 47\n",
      " 48 49 50 51 52 53 54 55 56 57 58 59 60 61 62 63 64 65 66 67 68 69 70 71\n",
      " 72 73 74 75 76 77 78 79 80 81 82 83 84 85 86 87 88 89 90 91 92 93 94 95\n",
      " 96 97 98 99]\n"
     ]
    }
   ],
   "source": [
    "#1 Create an array with (100) elements using np.arange()\n",
    "array_100 = np.arange(100)\n",
    "print(array_100)"
   ]
  },
  {
   "cell_type": "code",
   "execution_count": 5,
   "id": "b68f32c4",
   "metadata": {},
   "outputs": [
    {
     "name": "stdout",
     "output_type": "stream",
     "text": [
      "[3.77547662 6.25896548 0.99944318 0.77973998 2.11210435 2.61576142\n",
      " 2.82241808 0.26395623 0.61306017 0.23906543]\n"
     ]
    }
   ],
   "source": [
    "#2 Create two numpy arrays whose values are neither all 0 or 1. \n",
    "# Multiply the two arrays and save the result i.e., result = array1 * array2.\n",
    "array1 = np.random.rand(10) * 10\n",
    "array1 = np.random.rand(10)\n",
    "result = array1 * array2\n",
    "print(result)"
   ]
  },
  {
   "cell_type": "code",
   "execution_count": 6,
   "id": "6dbd5aeb",
   "metadata": {},
   "outputs": [
    {
     "name": "stdout",
     "output_type": "stream",
     "text": [
      "     array1    array2    array3\n",
      "0  0.047250  0.364186  0.502128\n",
      "1  0.611025  0.379218  0.847228\n",
      "2  0.404631  0.511099  0.004107\n",
      "3  0.190675  0.034178  0.290611\n",
      "4  0.835996  0.043819  0.363364\n",
      "5  0.089952  0.103173  0.751613\n",
      "6  0.033290  0.826760  0.527264\n",
      "7  0.883049  0.673287  0.377995\n",
      "8  0.282776  0.513407  0.054281\n",
      "9  0.930409  0.625028  0.590972\n"
     ]
    }
   ],
   "source": [
    "#3 Create a dictionary where each key points to a unique numpy array. \n",
    "# All arrays should be of the same length. Then transform that dictionary into a pandas dataframe.\n",
    "\n",
    "array_dict = {\n",
    "    \"array1\": np.random.rand(10),\n",
    "    \"array2\": np.random.rand(10),\n",
    "    \"array3\": np.random.rand(10)\n",
    "}\n",
    "df = pd.DataFrame(array_dict)\n",
    "print(df)"
   ]
  },
  {
   "cell_type": "code",
   "execution_count": null,
   "id": "2846143a",
   "metadata": {},
   "outputs": [],
   "source": []
  }
 ],
 "metadata": {
  "kernelspec": {
   "display_name": "Python 3 (ipykernel)",
   "language": "python",
   "name": "python3"
  },
  "language_info": {
   "codemirror_mode": {
    "name": "ipython",
    "version": 3
   },
   "file_extension": ".py",
   "mimetype": "text/x-python",
   "name": "python",
   "nbconvert_exporter": "python",
   "pygments_lexer": "ipython3",
   "version": "3.10.9"
  }
 },
 "nbformat": 4,
 "nbformat_minor": 5
}
