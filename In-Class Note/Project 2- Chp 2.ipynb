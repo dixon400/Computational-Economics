{
 "cells": [
  {
   "cell_type": "markdown",
   "id": "e824eb28",
   "metadata": {},
   "source": [
    "# Chapter 2 - List"
   ]
  },
  {
   "cell_type": "markdown",
   "id": "88fe347f",
   "metadata": {},
   "source": [
    "A list is a python data structure for storing elements of various datatype and structure. It can be used to store other datastructures. A python list is mutable."
   ]
  },
  {
   "cell_type": "code",
   "execution_count": 42,
   "id": "d43783b8",
   "metadata": {},
   "outputs": [
    {
     "data": {
      "text/plain": [
       "['abc', 30.0, True, 40, 'male', None]"
      ]
     },
     "execution_count": 42,
     "metadata": {},
     "output_type": "execute_result"
    }
   ],
   "source": [
    "#list\n",
    "list1 = [\"abc\", 30.0, True, 40, \"male\", None]\n",
    "list1 #This will return the list"
   ]
  },
  {
   "cell_type": "markdown",
   "id": "96bfb10f",
   "metadata": {},
   "source": [
    "## Checking the Type of a List"
   ]
  },
  {
   "cell_type": "code",
   "execution_count": 44,
   "id": "e8a07e3d",
   "metadata": {},
   "outputs": [
    {
     "name": "stdout",
     "output_type": "stream",
     "text": [
      "<class 'list'>\n"
     ]
    }
   ],
   "source": [
    "# Using type() function to check the type of the list\n",
    "print(type(list1))  # This will print <class 'list'>"
   ]
  },
  {
   "cell_type": "code",
   "execution_count": 47,
   "id": "b0877cf9",
   "metadata": {},
   "outputs": [
    {
     "name": "stdout",
     "output_type": "stream",
     "text": [
      "List after adding elements ['Red', 'Green', 'Blue']\n",
      "List after removing elements ['Red', 'Blue']\n"
     ]
    }
   ],
   "source": [
    "# Starting with an empty list\n",
    "colors_list = []\n",
    "\n",
    "# Adding elements to the list\n",
    "colors_list.append(\"Red\")  # Adds 'Red' to the list\n",
    "colors_list.append(\"Green\")  # Adds 'Green' to the list\n",
    "colors_list.append(\"Blue\")  # Adds 'Blue' to the list\n",
    "print('List after adding elements', colors_list)\n",
    "# Removing an element from the list\n",
    "colors_list.remove(\"Green\")  # Removes 'Green' from the list\n",
    "print('List after removing elements', colors_list)"
   ]
  },
  {
   "cell_type": "markdown",
   "id": "138f5e50",
   "metadata": {},
   "source": [
    "## Concatenation"
   ]
  },
  {
   "cell_type": "code",
   "execution_count": 2,
   "id": "ebe424a4",
   "metadata": {},
   "outputs": [
    {
     "name": "stdout",
     "output_type": "stream",
     "text": [
      "['abc', 30.0, True, 40, 'male', None, 'a', 'b', 'c', 'a', 'b', 'c']\n",
      "['abc', 30.0, True, 40, 'male', None, 'a', 'b', 'c', 'a', 'b', 'c']\n"
     ]
    }
   ],
   "source": [
    "list2 = [\"a\", \"b\", \"c\"]\n",
    "\n",
    "#concatenateLists\n",
    "\n",
    "# Use of Extend()\n",
    "list1.extend(list2)\n",
    "\n",
    "# Use of + will combine the elements in list1 and 2\n",
    "join_lists1 = list1 + list2\n",
    "\n",
    "# append list 2 to 1\n",
    "for x in list2: #This selects each element in list2\n",
    "  list1.append(x) #This will add the selected element to list1\n",
    "\n",
    "print(join_lists1)\n",
    "print(list1)\n"
   ]
  },
  {
   "cell_type": "markdown",
   "id": "494ff46a",
   "metadata": {},
   "source": [
    "## Loop and range()"
   ]
  },
  {
   "cell_type": "code",
   "execution_count": 3,
   "id": "223cffa9",
   "metadata": {},
   "outputs": [
    {
     "name": "stdout",
     "output_type": "stream",
     "text": [
      "abc\n",
      "30.0\n",
      "True\n",
      "40\n",
      "male\n",
      "None\n",
      "a\n",
      "b\n",
      "c\n",
      "a\n",
      "b\n",
      "c\n"
     ]
    }
   ],
   "source": [
    "# For loop iterates through all the elements in the list\n",
    "for x in join_lists1:\n",
    "    print(x)"
   ]
  },
  {
   "cell_type": "markdown",
   "id": "632db22d",
   "metadata": {},
   "source": [
    "We can use the index of each of the element in the list to loop. Here we will employ the range"
   ]
  },
  {
   "cell_type": "code",
   "execution_count": 4,
   "id": "07e1a03d",
   "metadata": {},
   "outputs": [
    {
     "name": "stdout",
     "output_type": "stream",
     "text": [
      "abc\n",
      "30.0\n",
      "True\n",
      "40\n",
      "male\n",
      "None\n",
      "a\n",
      "b\n",
      "c\n",
      "a\n",
      "b\n",
      "c\n"
     ]
    }
   ],
   "source": [
    "#Using index of element in a list\n",
    "for i in range(len(join_lists1)):\n",
    "  print(join_lists1[i])"
   ]
  },
  {
   "cell_type": "markdown",
   "id": "11446cf9",
   "metadata": {},
   "source": [
    "### range()\n",
    "\n",
    "The range() function returns a list of numbers which begins with 0 by default, and uses an incremental value of 1 by default, and stops before the specified number.\n",
    "\n",
    "range(start, stop, step)\n"
   ]
  },
  {
   "cell_type": "markdown",
   "id": "9dba97d6",
   "metadata": {},
   "source": [
    "Create a list of numbers from 0 to 19 since it wont print the last number, and print each item in the sequence:"
   ]
  },
  {
   "cell_type": "code",
   "execution_count": 5,
   "id": "acdbd250",
   "metadata": {
    "scrolled": true
   },
   "outputs": [
    {
     "name": "stdout",
     "output_type": "stream",
     "text": [
      "[0, 1, 2, 3, 4, 5, 6, 7, 8, 9, 10, 11, 12, 13, 14, 15, 16, 17, 18, 19]\n"
     ]
    }
   ],
   "source": [
    "rlist1 = list(range(20))\n",
    "print(rlist1)"
   ]
  },
  {
   "cell_type": "markdown",
   "id": "450a640c",
   "metadata": {},
   "source": [
    "Create a list of numbers from -20 to 10, and print each element in the sequence:"
   ]
  },
  {
   "cell_type": "code",
   "execution_count": 6,
   "id": "5bc3d585",
   "metadata": {},
   "outputs": [
    {
     "name": "stdout",
     "output_type": "stream",
     "text": [
      "[-10, -9, -8, -7, -6, -5, -4, -3, -2, -1, 0, 1, 2, 3, 4, 5, 6, 7, 8, 9]\n"
     ]
    }
   ],
   "source": [
    "rlist2 = list(range(-20, 20))\n",
    "print(rlist2)"
   ]
  },
  {
   "cell_type": "markdown",
   "id": "15518f19",
   "metadata": {},
   "source": [
    "Create a list of numbers from -10 to 10, but increases each element value by 2 instead of 1:"
   ]
  },
  {
   "cell_type": "code",
   "execution_count": 7,
   "id": "95894b93",
   "metadata": {},
   "outputs": [
    {
     "name": "stdout",
     "output_type": "stream",
     "text": [
      "[-10, -8, -6, -4, -2, 0, 2, 4, 6, 8]\n"
     ]
    }
   ],
   "source": [
    "rlist3 = list(range(-10, 10, 2))\n",
    "print(rlist3)"
   ]
  },
  {
   "cell_type": "markdown",
   "id": "431bc660",
   "metadata": {},
   "source": [
    "## List Comprehensions \n",
    "List comprehensions offer a concise way to create lists."
   ]
  },
  {
   "cell_type": "code",
   "execution_count": 1,
   "id": "a4c2139c",
   "metadata": {},
   "outputs": [
    {
     "name": "stdout",
     "output_type": "stream",
     "text": [
      "[0, 1, 4, 9, 16, 25, 36, 49, 64, 81]\n"
     ]
    }
   ],
   "source": [
    "# Using list comprehension to create a new list\n",
    "squares = [x ** 2 for x in range(10)]  # Creates a list of squares of numbers from 0 to 9\n",
    "print(squares)"
   ]
  },
  {
   "cell_type": "code",
   "execution_count": 51,
   "id": "862c17b0",
   "metadata": {},
   "outputs": [
    {
     "name": "stdout",
     "output_type": "stream",
     "text": [
      "[[1, 2, 3, 4, 5], [2, 4, 6, 8, 10], [3, 6, 9, 12, 15], [4, 8, 12, 16, 20], [5, 10, 15, 20, 25]]\n"
     ]
    }
   ],
   "source": [
    "# Creating a multiplication table using nested loops\n",
    "multiplication_table = [[x * y for y in range(1, 6)] for x in range(1, 6)]\n",
    "print(multiplication_table)"
   ]
  },
  {
   "cell_type": "code",
   "execution_count": 54,
   "id": "12581cc8",
   "metadata": {},
   "outputs": [
    {
     "data": {
      "text/plain": [
       "[('Alice', 25), ('Bob', 30), ('Charlie', 35)]"
      ]
     },
     "execution_count": 54,
     "metadata": {},
     "output_type": "execute_result"
    }
   ],
   "source": [
    "# Pairing two lists element-wise\n",
    "names = [\"Alice\", \"Bob\", \"Charlie\"]\n",
    "ages = [25, 30, 35]\n",
    "people = list(zip(names, ages))  # Creates a list of tuples pairing names with ages\n",
    "people"
   ]
  },
  {
   "cell_type": "code",
   "execution_count": 55,
   "id": "d50cc623",
   "metadata": {},
   "outputs": [
    {
     "data": {
      "text/plain": [
       "[-10, -9, -8, -7, -6, -5, -4, -3, -2, -1, 0, 1, 2, 3, 4, 5, 6, 7, 8, 9, 10]"
      ]
     },
     "execution_count": 55,
     "metadata": {},
     "output_type": "execute_result"
    }
   ],
   "source": [
    "#Using variables to hold min and max range\n",
    "minrange = -10\n",
    "maxrange = 10\n",
    "x = [i for i in range(minrange, maxrange + 1)]\n",
    "x"
   ]
  },
  {
   "cell_type": "markdown",
   "id": "16f3d2b8",
   "metadata": {},
   "source": [
    "$$y = 2x^2 + 3x + 1$$"
   ]
  },
  {
   "cell_type": "code",
   "execution_count": 9,
   "id": "7e2a5f64",
   "metadata": {},
   "outputs": [
    {
     "data": {
      "image/png": "[encoded data removed]",
      "text/plain": [
       "<Figure size 640x480 with 1 Axes>"
      ]
     },
     "metadata": {},
     "output_type": "display_data"
    }
   ],
   "source": [
    "import random\n",
    "from matplotlib import pyplot as plt \n",
    "\n",
    "y = [random.randint(minrange, maxrange + 1) for x in range(100)]\n",
    "\n",
    "plt.plot(y, ls=\"\", marker= \"o\");"
   ]
  },
  {
   "cell_type": "code",
   "execution_count": 38,
   "id": "98918cb8",
   "metadata": {},
   "outputs": [
    {
     "name": "stdout",
     "output_type": "stream",
     "text": [
      "sn\ty\tx\n",
      "0\t-10\t8\n",
      "1\t-9\t1\n",
      "2\t-8\t-8\n",
      "3\t-7\t-7\n",
      "4\t-6\t1\n",
      "5\t-5\t9\n",
      "6\t-4\t9\n",
      "7\t-3\t-8\n",
      "8\t-2\t11\n",
      "9\t-1\t-2\n",
      "10\t0\t9\n",
      "11\t1\t8\n",
      "12\t2\t-1\n",
      "13\t3\t2\n",
      "14\t4\t-2\n",
      "15\t5\t9\n",
      "16\t6\t10\n",
      "17\t7\t-6\n",
      "18\t8\t3\n",
      "19\t9\t8\n",
      "20\t10\t-10\n"
     ]
    }
   ],
   "source": [
    "print(\"sn\", \"y\", \"x\", sep =\"\\t\")\n",
    "for i in range(len(x)):\n",
    "    print(i, x[i], y[i], sep =\"\\t\")"
   ]
  },
  {
   "cell_type": "code",
   "execution_count": 56,
   "id": "dda674a3",
   "metadata": {},
   "outputs": [
    {
     "name": "stdout",
     "output_type": "stream",
     "text": [
      "sn\tx\ty\n",
      "0\t-10\t8\n",
      "1\t-9\t1\n",
      "2\t-8\t-8\n",
      "3\t-7\t-7\n",
      "4\t-6\t1\n",
      "5\t-5\t9\n",
      "6\t-4\t9\n",
      "7\t-3\t-8\n",
      "8\t-2\t11\n",
      "9\t-1\t-2\n",
      "10\t0\t9\n",
      "11\t1\t8\n",
      "12\t2\t-1\n",
      "13\t3\t2\n",
      "14\t4\t-2\n",
      "15\t5\t9\n",
      "16\t6\t10\n",
      "17\t7\t-6\n",
      "18\t8\t3\n",
      "19\t9\t8\n"
     ]
    }
   ],
   "source": [
    "print(\"sn\", \"x\", \"y\", sep =\"\\t\")\n",
    "interval = 2\n",
    "newLength = len(x)\n",
    "for i in range(0, newLength):\n",
    "# This can be used to take out element within a list\n",
    "    if i == len(x)-1:\n",
    "        del x[i]\n",
    "        del y[i]\n",
    "    else:\n",
    "        print(i, x[i], y[i], sep =\"\\t\")"
   ]
  },
  {
   "cell_type": "markdown",
   "id": "ccff3c4d",
   "metadata": {},
   "source": [
    "## Sorting\n",
    "List can be sorted with the inbuilt list.sort() or sorted() method that will sort the list alphanumerically, ascending.\n",
    "\n",
    "NB: The primary difference between the two is that list.sort() will sort the list in-place, mutating its indexes and returning None, whereas sorted() will return a new sorted list leaving the original list unchanged. Another difference is that sorted() accepts any iterable while list.sort() is a method of the list class and can only be used with lists."
   ]
  },
  {
   "cell_type": "code",
   "execution_count": 64,
   "id": "69d6f49c",
   "metadata": {},
   "outputs": [
    {
     "name": "stdout",
     "output_type": "stream",
     "text": [
      "Shuffled list: [-8, 6, 8, 2, -6, -2, -10, 0, 4, -4]\n",
      "Sorted list: [-10, -8, -6, -4, -2, 0, 2, 4, 6, 8]\n",
      "Sorted list: [8, 6, 4, 2, 0, -2, -4, -6, -8, -10]\n",
      "Original Shuffled list: [-8, 6, 8, 2, -6, -2, -10, 0, 4, -4]\n"
     ]
    }
   ],
   "source": [
    "import random\n",
    "random.shuffle(rlist3) #This is to shuffle the elements in the list\n",
    "print(\"Shuffled list:\", rlist3)\n",
    "print(\"Sorted list:\", sorted(rlist3)) #This sorts the list and returns a new list without mutating the original\n",
    "print(\"Sorted list:\", sorted(rlist3, reverse=True)) #Sort backwards\n",
    "print(\"Original Shuffled list:\", rlist3)"
   ]
  },
  {
   "cell_type": "code",
   "execution_count": null,
   "id": "782a7ea4",
   "metadata": {},
   "outputs": [],
   "source": []
  }
 ],
 "metadata": {
  "kernelspec": {
   "display_name": "Python 3 (ipykernel)",
   "language": "python",
   "name": "python3"
  },
  "language_info": {
   "codemirror_mode": {
    "name": "ipython",
    "version": 3
   },
   "file_extension": ".py",
   "mimetype": "text/x-python",
   "name": "python",
   "nbconvert_exporter": "python",
   "pygments_lexer": "ipython3",
   "version": "3.10.9"
  }
 },
 "nbformat": 4,
 "nbformat_minor": 5
}
