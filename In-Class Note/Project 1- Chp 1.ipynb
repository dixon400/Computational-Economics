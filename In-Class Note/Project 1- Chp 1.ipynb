{
 "cells": [
  {
   "cell_type": "markdown",
   "id": "980d30d2",
   "metadata": {},
   "source": [
    "# Chapter 1 - The Essentials\n",
    "\n",
    "The # sign is used for heading tags \n",
    "## 2nd level\n",
    "### 3rd level\n",
    "#### 4th level\n",
    "\n",
    "This is similar to h1 to h6 tags in html\n",
    "\n",
    "*italics*\n",
    "_italics_\n",
    "\n",
    "**bold**\n",
    "__bold__\n",
    "\n",
    "**_bold italic_**"
   ]
  },
  {
   "cell_type": "code",
   "execution_count": 1,
   "id": "3e54cc67",
   "metadata": {},
   "outputs": [
    {
     "name": "stdout",
     "output_type": "stream",
     "text": [
      "Hello World!\n"
     ]
    }
   ],
   "source": [
    "#Helloworld.py\n",
    "#Use print to output value\n",
    "print(\"Hello World!\")"
   ]
  },
  {
   "cell_type": "code",
   "execution_count": 2,
   "id": "4a5abf58",
   "metadata": {},
   "outputs": [
    {
     "data": {
      "text/plain": [
       "'Hello World!'"
      ]
     },
     "execution_count": 2,
     "metadata": {},
     "output_type": "execute_result"
    }
   ],
   "source": [
    "#Output values without string\n",
    "\"Hello World!\""
   ]
  },
  {
   "cell_type": "markdown",
   "id": "e9b97a1b",
   "metadata": {},
   "source": [
    "A variable is created the moment you first assign a value to it."
   ]
  },
  {
   "cell_type": "code",
   "execution_count": 3,
   "id": "553d4326",
   "metadata": {},
   "outputs": [
    {
     "name": "stdout",
     "output_type": "stream",
     "text": [
      "John\n"
     ]
    }
   ],
   "source": [
    "name = \"John\"\n",
    "print(name)"
   ]
  },
  {
   "cell_type": "code",
   "execution_count": 4,
   "id": "7607404e",
   "metadata": {},
   "outputs": [
    {
     "name": "stdout",
     "output_type": "stream",
     "text": [
      "A\n",
      "new\n",
      "dawn\n"
     ]
    }
   ],
   "source": [
    "x, y, z = \"A\", \"new\", \"dawn\"\n",
    "print(x)\n",
    "print(y)\n",
    "print(z)"
   ]
  },
  {
   "cell_type": "markdown",
   "id": "f8c2a552",
   "metadata": {},
   "source": [
    "## Methods\n",
    "\n",
    "Python has a set of built-in methods that you can use on strings.\n",
    "\n",
    "All string methods return new values. \n",
    "They do not change the original string.\n",
    "\n",
    "\n",
    "String methods for changing case and formatting.\n"
   ]
  },
  {
   "cell_type": "code",
   "execution_count": 5,
   "id": "d9c781e3",
   "metadata": {},
   "outputs": [
    {
     "data": {
      "text/plain": [
       "'john'"
      ]
     },
     "execution_count": 5,
     "metadata": {},
     "output_type": "execute_result"
    }
   ],
   "source": [
    "#Converts a string into lower case\n",
    "name.lower()"
   ]
  },
  {
   "cell_type": "code",
   "execution_count": 6,
   "id": "49004eaf",
   "metadata": {},
   "outputs": [
    {
     "data": {
      "text/plain": [
       "'JOHN'"
      ]
     },
     "execution_count": 6,
     "metadata": {},
     "output_type": "execute_result"
    }
   ],
   "source": [
    "#Converts a string into upper case\n",
    "name.upper()"
   ]
  },
  {
   "cell_type": "code",
   "execution_count": 7,
   "id": "f9675e8a",
   "metadata": {},
   "outputs": [
    {
     "data": {
      "text/plain": [
       "'Hello world'"
      ]
     },
     "execution_count": 7,
     "metadata": {},
     "output_type": "execute_result"
    }
   ],
   "source": [
    "#Converts the first character to upper case\n",
    "x = 'hello world'\n",
    "x.capitalize()"
   ]
  },
  {
   "cell_type": "code",
   "execution_count": 8,
   "id": "af92e27c",
   "metadata": {},
   "outputs": [
    {
     "data": {
      "text/plain": [
       "'Hello World'"
      ]
     },
     "execution_count": 8,
     "metadata": {},
     "output_type": "execute_result"
    }
   ],
   "source": [
    "#Convert first letters to cap\n",
    "x.lower().title()"
   ]
  },
  {
   "cell_type": "markdown",
   "id": "21aa0972",
   "metadata": {},
   "source": [
    "Method replaces a specified phrase with another specified phrase.\n",
    "All occurrences of the specified phrase will be replaced, if nothing else is specified.\n",
    "string.replace(oldvalue, newvalue, count)"
   ]
  },
  {
   "cell_type": "code",
   "execution_count": 9,
   "id": "45f0df61",
   "metadata": {},
   "outputs": [
    {
     "name": "stdout",
     "output_type": "stream",
     "text": [
      "Hello\n",
      "World\n"
     ]
    }
   ],
   "source": [
    "print(x.title().replace(\" \",\"\\n\"))"
   ]
  },
  {
   "cell_type": "markdown",
   "id": "7fb34ce3",
   "metadata": {},
   "source": [
    "## Concatenate Objects\n",
    "\n",
    "\n",
    "To concatenate, or combine, two strings you can use the + operator."
   ]
  },
  {
   "cell_type": "code",
   "execution_count": 10,
   "id": "481bffd8",
   "metadata": {},
   "outputs": [
    {
     "data": {
      "text/plain": [
       "'This is interesting.'"
      ]
     },
     "execution_count": 10,
     "metadata": {},
     "output_type": "execute_result"
    }
   ],
   "source": [
    "\"This \" + \"is \" + \"interesting.\""
   ]
  },
  {
   "cell_type": "markdown",
   "id": "e2ec541d",
   "metadata": {},
   "source": [
    "\n",
    "The + sign will sum values that are int or float"
   ]
  },
  {
   "cell_type": "code",
   "execution_count": 11,
   "id": "7217ee55",
   "metadata": {},
   "outputs": [
    {
     "data": {
      "text/plain": [
       "22"
      ]
     },
     "execution_count": 11,
     "metadata": {},
     "output_type": "execute_result"
    }
   ],
   "source": [
    "10+12"
   ]
  },
  {
   "cell_type": "code",
   "execution_count": 12,
   "id": "7b2663a5",
   "metadata": {},
   "outputs": [
    {
     "data": {
      "text/plain": [
       "'hello world12'"
      ]
     },
     "execution_count": 12,
     "metadata": {},
     "output_type": "execute_result"
    }
   ],
   "source": [
    "x + \"12\""
   ]
  },
  {
   "cell_type": "code",
   "execution_count": 13,
   "id": "8be3babd",
   "metadata": {},
   "outputs": [
    {
     "data": {
      "text/plain": [
       "'123'"
      ]
     },
     "execution_count": 13,
     "metadata": {},
     "output_type": "execute_result"
    }
   ],
   "source": [
    "\"1\" \"2\" \"3\""
   ]
  },
  {
   "cell_type": "markdown",
   "id": "d09c89e5",
   "metadata": {},
   "source": [
    "## String interpolation"
   ]
  },
  {
   "cell_type": "code",
   "execution_count": 15,
   "id": "b82f1dbf",
   "metadata": {},
   "outputs": [
    {
     "name": "stdout",
     "output_type": "stream",
     "text": [
      "Welcome to the World\n",
      "Hello ! This is a new World.\n"
     ]
    }
   ],
   "source": [
    "n1 = 'Hello'\n",
    "n2 = 'World'\n",
    "\n",
    "# for single substitution\n",
    "print(\"Welcome to the % s\" % n2)\n",
    "\n",
    "# for single and multiple substitutions()\n",
    "# mandatory\n",
    "print(\"% s ! This is a new % s.\" % (n1, n2))"
   ]
  },
  {
   "cell_type": "markdown",
   "id": "bf36b5ac",
   "metadata": {},
   "source": [
    "\n",
    "str.format() works by putting in one or more replacement fields and placeholders defined by a pair of curly braces { } into a string. "
   ]
  },
  {
   "cell_type": "code",
   "execution_count": 16,
   "id": "d874fc0f",
   "metadata": {},
   "outputs": [
    {
     "name": "stdout",
     "output_type": "stream",
     "text": [
      "Hello, World\n"
     ]
    }
   ],
   "source": [
    "n1 = 'Hello'\n",
    "n2 = 'World'\n",
    "\n",
    "# for single substitution\n",
    "print('{}, {}'.format(n1, n2))"
   ]
  },
  {
   "cell_type": "code",
   "execution_count": 17,
   "id": "4e071556",
   "metadata": {},
   "outputs": [
    {
     "name": "stdout",
     "output_type": "stream",
     "text": [
      "Hello! This is Khalifa.\n",
      "Khalifa! This is Hello.\n"
     ]
    }
   ],
   "source": [
    "\n",
    "n1 = \"Hello\"\n",
    "n2 = \"Khalifa\"\n",
    "\n",
    "# for single or multiple substitutions\n",
    "# let's say b1 and b2 are formal parameters\n",
    "# and n1 and n2 are actual parameters\n",
    "print(\"{b1}! This is {b2}.\".format(b1=n1, b2=n2))\n",
    "\n",
    "# we can also change the order of the \n",
    "# variables in the string without changing \n",
    "# the parameters of format function\n",
    "print(\"{b2}! This is {b1}.\".format(b1=n1, b2=n2))"
   ]
  },
  {
   "cell_type": "code",
   "execution_count": 19,
   "id": "b1db2b4d",
   "metadata": {},
   "outputs": [
    {
     "name": "stdout",
     "output_type": "stream",
     "text": [
      "Hello! This is Khalifa\n"
     ]
    }
   ],
   "source": [
    "n1 = 'Hello'\n",
    "n2 = 'Khalifa'\n",
    "\n",
    "# f tells Python to restore the value of two\n",
    "# string variable name and program inside braces {}\n",
    "print(f\"{n1}! This is {n2}\")"
   ]
  },
  {
   "cell_type": "markdown",
   "id": "c0841a6e",
   "metadata": {},
   "source": [
    "## Quotes and Escape\n",
    "An escape character is a backslash \\ followed by the character you want to insert.\n",
    "\n",
    "\n",
    "### Double quotes"
   ]
  },
  {
   "cell_type": "code",
   "execution_count": 21,
   "id": "0b641371",
   "metadata": {},
   "outputs": [
    {
     "name": "stdout",
     "output_type": "stream",
     "text": [
      " This is a sample use of \"double quotes\" in double quotes.\n"
     ]
    }
   ],
   "source": [
    "double_quotes = \" This is a sample use of \\\"double quotes\\\" in double quotes.\"\n",
    "print(double_quotes)"
   ]
  },
  {
   "cell_type": "markdown",
   "id": "9f99ab39",
   "metadata": {},
   "source": [
    "### Single quotes"
   ]
  },
  {
   "cell_type": "code",
   "execution_count": 24,
   "id": "36937554",
   "metadata": {},
   "outputs": [
    {
     "name": "stdout",
     "output_type": "stream",
     "text": [
      "This is a sample use of 'single quotes' in single quotes.\n"
     ]
    }
   ],
   "source": [
    "single_quotes = 'This is a sample use of \\'single quotes\\' in single quotes.'\n",
    "print(single_quotes)"
   ]
  },
  {
   "cell_type": "code",
   "execution_count": 26,
   "id": "216e1d58",
   "metadata": {},
   "outputs": [
    {
     "name": "stdout",
     "output_type": "stream",
     "text": [
      "We may use two backslashes to print a single backslash: \\\n"
     ]
    }
   ],
   "source": [
    "read_backslash = \"We may use two backslashes to print a single backslash: \\\\\"\n",
    "print(read_backslash)"
   ]
  },
  {
   "cell_type": "markdown",
   "id": "b178d393",
   "metadata": {},
   "source": [
    "## Values\n",
    "\n",
    "There are three numeric types in Python:\n",
    "\n",
    "1. int\n",
    "2. float\n",
    "3. complex"
   ]
  },
  {
   "cell_type": "code",
   "execution_count": 29,
   "id": "764b38db",
   "metadata": {},
   "outputs": [
    {
     "name": "stdout",
     "output_type": "stream",
     "text": [
      "20.0 20 (20+0j)\n"
     ]
    }
   ],
   "source": [
    "\n",
    "classNumber = 20 #int\n",
    "classNumberFloat = 20.00\n",
    "classNumberComplex = (2 + 0j)\n",
    "\n",
    "\n",
    "\n",
    "convert1 = float(classNumber)\n",
    "convert3 = complex(classNumber)\n",
    "convert2 = int(classNumberFloat)\n",
    "\n",
    "print(convert1, convert2, convert3)"
   ]
  },
  {
   "cell_type": "code",
   "execution_count": null,
   "id": "0509b9d3",
   "metadata": {},
   "outputs": [],
   "source": []
  }
 ],
 "metadata": {
  "kernelspec": {
   "display_name": "Python 3 (ipykernel)",
   "language": "python",
   "name": "python3"
  },
  "language_info": {
   "codemirror_mode": {
    "name": "ipython",
    "version": 3
   },
   "file_extension": ".py",
   "mimetype": "text/x-python",
   "name": "python",
   "nbconvert_exporter": "python",
   "pygments_lexer": "ipython3",
   "version": "3.10.9"
  }
 },
 "nbformat": 4,
 "nbformat_minor": 5
}
